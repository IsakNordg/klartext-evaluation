{
 "cells": [
  {
   "cell_type": "code",
   "execution_count": 22,
   "metadata": {},
   "outputs": [],
   "source": [
    "import os\n",
    "from dotenv import load_dotenv"
   ]
  },
  {
   "cell_type": "code",
   "execution_count": 23,
   "metadata": {},
   "outputs": [],
   "source": [
    "class Evaluator():\n",
    "\n",
    "    # Evaluates a given model on the following documents:\n",
    "    #   1. Hyresavi\n",
    "    #   2. Om krisen eller kriget kommer\n",
    "    #   3. \n",
    "\n",
    "    def __init__(self, model):\n",
    "        self.model = model\n",
    "        \n",
    "\n",
    "    def evaluate(self):\n",
    "        pass\n",
    "\n",
    "    def evaluate_hyresavi(self):\n",
    "        pass\n",
    "        # Här vill vi skicka ett antal flervalsfrågor till modellen och be den svara på dem \n",
    "\n",
    "    def evaluate_krisen_kriget(self):\n",
    "        pass"
   ]
  },
  {
   "cell_type": "code",
   "execution_count": 24,
   "metadata": {},
   "outputs": [],
   "source": [
    "import pdfplumber\n",
    "\n",
    "class Model():\n",
    "\n",
    "    def __init__(self):\n",
    "        self.setupModel()\n",
    "\n",
    "        self.systemPrompt = \"\"\"\n",
    "Du sammanfattar texter som användaren skickar. \n",
    "Syftet är att översätta svårlästa texter som exempelvis myndighetsbeslut, \n",
    "kontrakt eller avier/fakturor till klartext som är lättförståelig och tydlig, \n",
    "framförallt om det är något som användaren behöver göra själv (exempelvis betala en faktura).\n",
    "\n",
    "Texten som användaren kommer skicka är PDFer som har blivit omformaterade till en lång sträng. \n",
    "Detta kan leda till att viss positionell information försvinner, eller att olika textstycken \n",
    "kommer i en annan ordning än vad som är tänkt.\n",
    "\n",
    "Du ska först svara med en flytande text som kort förklarar vad som står i dokumentet.\n",
    "Om dokumentet ger instruktioner ska du beskriva dessa steg för steg sist i svaret.\n",
    "Det ska gå att utföra instruktionerna enbart baserat på det du skriver så användaren inte behöver läsa i pdfen för att veta vad den ska göra.\n",
    "Svara på svenska.\n",
    "\"\"\"\n",
    "\n",
    "    def setupModel(self):\n",
    "        pass\n",
    "\n",
    "    def getModelAnswer(self, prompt):\n",
    "        pass\n",
    "\n",
    "    def extract_text_from_pdf(self, pdf):\n",
    "        text = \"\"\n",
    "        with pdfplumber.open(\"Documents/\" + pdf) as pdf_file:\n",
    "            for page in pdf_file.pages:\n",
    "                text += page.extract_text()\n",
    "        return text"
   ]
  },
  {
   "cell_type": "code",
   "execution_count": 25,
   "metadata": {},
   "outputs": [],
   "source": [
    "from groq import Groq\n",
    "\n",
    "class GroqModel(Model):\n",
    "\n",
    "    def setupModel(self):\n",
    "        load_dotenv()\n",
    "    \n",
    "        GROQ_API_KEY = os.getenv(\"GROQ_API_KEY\")\n",
    "    \n",
    "        client = Groq(\n",
    "            api_key=GROQ_API_KEY\n",
    "        )\n",
    "    \n",
    "        self.client = client\n",
    "\n",
    "    def getModelAnswer(self, doc):\n",
    "\n",
    "        chat_completion = self.client.chat.completions.create(\n",
    "            messages=[\n",
    "                {\n",
    "                    \"role\": \"system\",\n",
    "                    'content': self.systemPrompt\n",
    "                    \n",
    "                },\n",
    "                {\n",
    "                    \"role\": \"user\",\n",
    "                    \"content\": self.extract_text_from_pdf(doc),\n",
    "                }\n",
    "            ],\n",
    "            model=\"llama3-70b-8192\",\n",
    "        )\n",
    "    \n",
    "        return chat_completion.choices[0].message.content"
   ]
  },
  {
   "cell_type": "code",
   "execution_count": 26,
   "metadata": {},
   "outputs": [
    {
     "name": "stdout",
     "output_type": "stream",
     "text": [
      "Här är en summary av dokumentet:\n",
      "\n",
      "Detta är en hyresavi från Stockholms Studentbostäder. Du ska betala 4337,00 kr för hyra och internetanslutning för perioden 2024-04-01 till 2024-04-30.\n",
      "\n",
      "Instruktioner:\n",
      "\n",
      "1. Betala 4337,00 kr senast 2024-03-31 till Bankgiro 5954-0146.\n",
      "2. Ange OCR-nr 317925899 vid betalningen.\n"
     ]
    }
   ],
   "source": [
    "def main():\n",
    "    groq = GroqModel()\n",
    "    groqEvaluator = Evaluator(groq, None, None)\n",
    "    \n",
    "\n",
    "main()"
   ]
  }
 ],
 "metadata": {
  "kernelspec": {
   "display_name": "base",
   "language": "python",
   "name": "python3"
  },
  "language_info": {
   "codemirror_mode": {
    "name": "ipython",
    "version": 3
   },
   "file_extension": ".py",
   "mimetype": "text/x-python",
   "name": "python",
   "nbconvert_exporter": "python",
   "pygments_lexer": "ipython3",
   "version": "3.10.11"
  }
 },
 "nbformat": 4,
 "nbformat_minor": 2
}
